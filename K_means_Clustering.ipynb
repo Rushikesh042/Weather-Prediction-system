{
  "nbformat": 4,
  "nbformat_minor": 0,
  "metadata": {
    "colab": {
      "name": "K-means Clustering.ipynb",
      "provenance": [],
      "authorship_tag": "ABX9TyNRqmi5QmmI8oQrnNHrQm+3",
      "include_colab_link": true
    },
    "kernelspec": {
      "name": "python3",
      "display_name": "Python 3"
    }
  },
  "cells": [
    {
      "cell_type": "markdown",
      "metadata": {
        "id": "view-in-github",
        "colab_type": "text"
      },
      "source": [
        "<a href=\"https://colab.research.google.com/github/Rushikesh042/Weather-Prediction-system/blob/master/K_means_Clustering.ipynb\" target=\"_parent\"><img src=\"https://colab.research.google.com/assets/colab-badge.svg\" alt=\"Open In Colab\"/></a>"
      ]
    },
    {
      "cell_type": "code",
      "metadata": {
        "id": "y9OmN9lWDtWT",
        "colab_type": "code",
        "colab": {}
      },
      "source": [
        "from sklearn.preprocessing import StandardScaler\n",
        "from sklearn.cluster import KMeans\n",
        "import pandas as pd\n",
        "import numpy as np\n",
        "from itertools import cycle, islice\n",
        "import matplotlib.pyplot as plt\n",
        "from pandas.plotting import parallel_coordinates\n",
        "\n",
        "%matplotlib inline"
      ],
      "execution_count": 28,
      "outputs": []
    },
    {
      "cell_type": "code",
      "metadata": {
        "id": "b9kb_LdWEHHw",
        "colab_type": "code",
        "colab": {}
      },
      "source": [
        "data = pd.read_csv('daily_weather.csv')"
      ],
      "execution_count": 29,
      "outputs": []
    },
    {
      "cell_type": "code",
      "metadata": {
        "id": "jua5YpsqEMmB",
        "colab_type": "code",
        "colab": {
          "base_uri": "https://localhost:8080/",
          "height": 34
        },
        "outputId": "6e6185a5-a6d7-4419-881c-c221529f06df"
      },
      "source": [
        "data.shape"
      ],
      "execution_count": 30,
      "outputs": [
        {
          "output_type": "execute_result",
          "data": {
            "text/plain": [
              "(1095, 11)"
            ]
          },
          "metadata": {
            "tags": []
          },
          "execution_count": 30
        }
      ]
    },
    {
      "cell_type": "code",
      "metadata": {
        "id": "3DK5prS5ESOO",
        "colab_type": "code",
        "colab": {
          "base_uri": "https://localhost:8080/",
          "height": 215
        },
        "outputId": "ea27ae23-a074-4cd6-c141-6c624440f4c1"
      },
      "source": [
        "data.head()"
      ],
      "execution_count": 31,
      "outputs": [
        {
          "output_type": "execute_result",
          "data": {
            "text/html": [
              "<div>\n",
              "<style scoped>\n",
              "    .dataframe tbody tr th:only-of-type {\n",
              "        vertical-align: middle;\n",
              "    }\n",
              "\n",
              "    .dataframe tbody tr th {\n",
              "        vertical-align: top;\n",
              "    }\n",
              "\n",
              "    .dataframe thead th {\n",
              "        text-align: right;\n",
              "    }\n",
              "</style>\n",
              "<table border=\"1\" class=\"dataframe\">\n",
              "  <thead>\n",
              "    <tr style=\"text-align: right;\">\n",
              "      <th></th>\n",
              "      <th>number</th>\n",
              "      <th>air_pressure_9am</th>\n",
              "      <th>air_temp_9am</th>\n",
              "      <th>avg_wind_direction_9am</th>\n",
              "      <th>avg_wind_speed_9am</th>\n",
              "      <th>max_wind_direction_9am</th>\n",
              "      <th>max_wind_speed_9am</th>\n",
              "      <th>rain_accumulation_9am</th>\n",
              "      <th>rain_duration_9am</th>\n",
              "      <th>relative_humidity_9am</th>\n",
              "      <th>relative_humidity_3pm</th>\n",
              "    </tr>\n",
              "  </thead>\n",
              "  <tbody>\n",
              "    <tr>\n",
              "      <th>0</th>\n",
              "      <td>0</td>\n",
              "      <td>918.060000</td>\n",
              "      <td>74.822000</td>\n",
              "      <td>271.100000</td>\n",
              "      <td>2.080354</td>\n",
              "      <td>295.400000</td>\n",
              "      <td>2.863283</td>\n",
              "      <td>0.0</td>\n",
              "      <td>0.0</td>\n",
              "      <td>42.420000</td>\n",
              "      <td>36.160000</td>\n",
              "    </tr>\n",
              "    <tr>\n",
              "      <th>1</th>\n",
              "      <td>1</td>\n",
              "      <td>917.347688</td>\n",
              "      <td>71.403843</td>\n",
              "      <td>101.935179</td>\n",
              "      <td>2.443009</td>\n",
              "      <td>140.471548</td>\n",
              "      <td>3.533324</td>\n",
              "      <td>0.0</td>\n",
              "      <td>0.0</td>\n",
              "      <td>24.328697</td>\n",
              "      <td>19.426597</td>\n",
              "    </tr>\n",
              "    <tr>\n",
              "      <th>2</th>\n",
              "      <td>2</td>\n",
              "      <td>923.040000</td>\n",
              "      <td>60.638000</td>\n",
              "      <td>51.000000</td>\n",
              "      <td>17.067852</td>\n",
              "      <td>63.700000</td>\n",
              "      <td>22.100967</td>\n",
              "      <td>0.0</td>\n",
              "      <td>20.0</td>\n",
              "      <td>8.900000</td>\n",
              "      <td>14.460000</td>\n",
              "    </tr>\n",
              "    <tr>\n",
              "      <th>3</th>\n",
              "      <td>3</td>\n",
              "      <td>920.502751</td>\n",
              "      <td>70.138895</td>\n",
              "      <td>198.832133</td>\n",
              "      <td>4.337363</td>\n",
              "      <td>211.203341</td>\n",
              "      <td>5.190045</td>\n",
              "      <td>0.0</td>\n",
              "      <td>0.0</td>\n",
              "      <td>12.189102</td>\n",
              "      <td>12.742547</td>\n",
              "    </tr>\n",
              "    <tr>\n",
              "      <th>4</th>\n",
              "      <td>4</td>\n",
              "      <td>921.160000</td>\n",
              "      <td>44.294000</td>\n",
              "      <td>277.800000</td>\n",
              "      <td>1.856660</td>\n",
              "      <td>136.500000</td>\n",
              "      <td>2.863283</td>\n",
              "      <td>8.9</td>\n",
              "      <td>14730.0</td>\n",
              "      <td>92.410000</td>\n",
              "      <td>76.740000</td>\n",
              "    </tr>\n",
              "  </tbody>\n",
              "</table>\n",
              "</div>"
            ],
            "text/plain": [
              "   number  air_pressure_9am  ...  relative_humidity_9am  relative_humidity_3pm\n",
              "0       0        918.060000  ...              42.420000              36.160000\n",
              "1       1        917.347688  ...              24.328697              19.426597\n",
              "2       2        923.040000  ...               8.900000              14.460000\n",
              "3       3        920.502751  ...              12.189102              12.742547\n",
              "4       4        921.160000  ...              92.410000              76.740000\n",
              "\n",
              "[5 rows x 11 columns]"
            ]
          },
          "metadata": {
            "tags": []
          },
          "execution_count": 31
        }
      ]
    },
    {
      "cell_type": "code",
      "metadata": {
        "id": "1Lv4OJ1tEUbe",
        "colab_type": "code",
        "colab": {
          "base_uri": "https://localhost:8080/",
          "height": 34
        },
        "outputId": "07120848-4c8a-4131-8489-b69168379b15"
      },
      "source": [
        "sampled_df = data[(data['number'] % 10) == 0]\n",
        "sampled_df.shape"
      ],
      "execution_count": 33,
      "outputs": [
        {
          "output_type": "execute_result",
          "data": {
            "text/plain": [
              "(110, 11)"
            ]
          },
          "metadata": {
            "tags": []
          },
          "execution_count": 33
        }
      ]
    },
    {
      "cell_type": "code",
      "metadata": {
        "id": "jilMVmhsEW-X",
        "colab_type": "code",
        "colab": {
          "base_uri": "https://localhost:8080/",
          "height": 373
        },
        "outputId": "4b602491-d8d0-4d3e-e884-db0048a541e1"
      },
      "source": [
        "sampled_df.describe().transpose()"
      ],
      "execution_count": 34,
      "outputs": [
        {
          "output_type": "execute_result",
          "data": {
            "text/html": [
              "<div>\n",
              "<style scoped>\n",
              "    .dataframe tbody tr th:only-of-type {\n",
              "        vertical-align: middle;\n",
              "    }\n",
              "\n",
              "    .dataframe tbody tr th {\n",
              "        vertical-align: top;\n",
              "    }\n",
              "\n",
              "    .dataframe thead th {\n",
              "        text-align: right;\n",
              "    }\n",
              "</style>\n",
              "<table border=\"1\" class=\"dataframe\">\n",
              "  <thead>\n",
              "    <tr style=\"text-align: right;\">\n",
              "      <th></th>\n",
              "      <th>count</th>\n",
              "      <th>mean</th>\n",
              "      <th>std</th>\n",
              "      <th>min</th>\n",
              "      <th>25%</th>\n",
              "      <th>50%</th>\n",
              "      <th>75%</th>\n",
              "      <th>max</th>\n",
              "    </tr>\n",
              "  </thead>\n",
              "  <tbody>\n",
              "    <tr>\n",
              "      <th>number</th>\n",
              "      <td>110.0</td>\n",
              "      <td>545.000000</td>\n",
              "      <td>318.982758</td>\n",
              "      <td>0.000000</td>\n",
              "      <td>272.500000</td>\n",
              "      <td>545.000000</td>\n",
              "      <td>817.500000</td>\n",
              "      <td>1090.000000</td>\n",
              "    </tr>\n",
              "    <tr>\n",
              "      <th>air_pressure_9am</th>\n",
              "      <td>110.0</td>\n",
              "      <td>918.603393</td>\n",
              "      <td>3.071110</td>\n",
              "      <td>910.340000</td>\n",
              "      <td>916.825000</td>\n",
              "      <td>918.120000</td>\n",
              "      <td>920.982489</td>\n",
              "      <td>925.960000</td>\n",
              "    </tr>\n",
              "    <tr>\n",
              "      <th>air_temp_9am</th>\n",
              "      <td>109.0</td>\n",
              "      <td>67.405654</td>\n",
              "      <td>11.805028</td>\n",
              "      <td>42.134000</td>\n",
              "      <td>58.946000</td>\n",
              "      <td>68.253823</td>\n",
              "      <td>75.664048</td>\n",
              "      <td>98.906000</td>\n",
              "    </tr>\n",
              "    <tr>\n",
              "      <th>avg_wind_direction_9am</th>\n",
              "      <td>110.0</td>\n",
              "      <td>150.047497</td>\n",
              "      <td>67.672077</td>\n",
              "      <td>28.900000</td>\n",
              "      <td>73.044125</td>\n",
              "      <td>171.100000</td>\n",
              "      <td>192.275000</td>\n",
              "      <td>292.800000</td>\n",
              "    </tr>\n",
              "    <tr>\n",
              "      <th>avg_wind_speed_9am</th>\n",
              "      <td>109.0</td>\n",
              "      <td>5.326938</td>\n",
              "      <td>4.393845</td>\n",
              "      <td>0.917145</td>\n",
              "      <td>2.234508</td>\n",
              "      <td>3.511996</td>\n",
              "      <td>7.695571</td>\n",
              "      <td>21.314179</td>\n",
              "    </tr>\n",
              "    <tr>\n",
              "      <th>max_wind_direction_9am</th>\n",
              "      <td>110.0</td>\n",
              "      <td>156.467570</td>\n",
              "      <td>64.538380</td>\n",
              "      <td>38.300000</td>\n",
              "      <td>85.975194</td>\n",
              "      <td>186.900000</td>\n",
              "      <td>201.775000</td>\n",
              "      <td>295.400000</td>\n",
              "    </tr>\n",
              "    <tr>\n",
              "      <th>max_wind_speed_9am</th>\n",
              "      <td>110.0</td>\n",
              "      <td>6.901317</td>\n",
              "      <td>5.440086</td>\n",
              "      <td>1.342164</td>\n",
              "      <td>3.079926</td>\n",
              "      <td>4.697574</td>\n",
              "      <td>9.870498</td>\n",
              "      <td>25.605325</td>\n",
              "    </tr>\n",
              "    <tr>\n",
              "      <th>rain_accumulation_9am</th>\n",
              "      <td>109.0</td>\n",
              "      <td>0.253258</td>\n",
              "      <td>1.771543</td>\n",
              "      <td>0.000000</td>\n",
              "      <td>0.000000</td>\n",
              "      <td>0.000000</td>\n",
              "      <td>0.000000</td>\n",
              "      <td>17.616000</td>\n",
              "    </tr>\n",
              "    <tr>\n",
              "      <th>rain_duration_9am</th>\n",
              "      <td>110.0</td>\n",
              "      <td>262.576396</td>\n",
              "      <td>1357.633712</td>\n",
              "      <td>0.000000</td>\n",
              "      <td>0.000000</td>\n",
              "      <td>0.000000</td>\n",
              "      <td>0.000000</td>\n",
              "      <td>10560.000000</td>\n",
              "    </tr>\n",
              "    <tr>\n",
              "      <th>relative_humidity_9am</th>\n",
              "      <td>110.0</td>\n",
              "      <td>31.419408</td>\n",
              "      <td>23.423758</td>\n",
              "      <td>6.929473</td>\n",
              "      <td>16.444170</td>\n",
              "      <td>22.220080</td>\n",
              "      <td>35.845000</td>\n",
              "      <td>90.580000</td>\n",
              "    </tr>\n",
              "    <tr>\n",
              "      <th>relative_humidity_3pm</th>\n",
              "      <td>110.0</td>\n",
              "      <td>33.765091</td>\n",
              "      <td>21.342965</td>\n",
              "      <td>9.130000</td>\n",
              "      <td>18.294021</td>\n",
              "      <td>23.487313</td>\n",
              "      <td>49.635000</td>\n",
              "      <td>91.680000</td>\n",
              "    </tr>\n",
              "  </tbody>\n",
              "</table>\n",
              "</div>"
            ],
            "text/plain": [
              "                        count        mean  ...         75%           max\n",
              "number                  110.0  545.000000  ...  817.500000   1090.000000\n",
              "air_pressure_9am        110.0  918.603393  ...  920.982489    925.960000\n",
              "air_temp_9am            109.0   67.405654  ...   75.664048     98.906000\n",
              "avg_wind_direction_9am  110.0  150.047497  ...  192.275000    292.800000\n",
              "avg_wind_speed_9am      109.0    5.326938  ...    7.695571     21.314179\n",
              "max_wind_direction_9am  110.0  156.467570  ...  201.775000    295.400000\n",
              "max_wind_speed_9am      110.0    6.901317  ...    9.870498     25.605325\n",
              "rain_accumulation_9am   109.0    0.253258  ...    0.000000     17.616000\n",
              "rain_duration_9am       110.0  262.576396  ...    0.000000  10560.000000\n",
              "relative_humidity_9am   110.0   31.419408  ...   35.845000     90.580000\n",
              "relative_humidity_3pm   110.0   33.765091  ...   49.635000     91.680000\n",
              "\n",
              "[11 rows x 8 columns]"
            ]
          },
          "metadata": {
            "tags": []
          },
          "execution_count": 34
        }
      ]
    },
    {
      "cell_type": "code",
      "metadata": {
        "id": "PjU_iL78EgRw",
        "colab_type": "code",
        "colab": {
          "base_uri": "https://localhost:8080/",
          "height": 34
        },
        "outputId": "691d91e2-d3fd-485a-8593-aa567d112847"
      },
      "source": [
        "sampled_df[sampled_df['rain_accumulation_9am'] == 0].shape"
      ],
      "execution_count": 36,
      "outputs": [
        {
          "output_type": "execute_result",
          "data": {
            "text/plain": [
              "(97, 11)"
            ]
          },
          "metadata": {
            "tags": []
          },
          "execution_count": 36
        }
      ]
    },
    {
      "cell_type": "code",
      "metadata": {
        "id": "YHgOmhJ_EkNM",
        "colab_type": "code",
        "colab": {
          "base_uri": "https://localhost:8080/",
          "height": 34
        },
        "outputId": "d64b42d1-5796-4540-d661-edccbde3e02e"
      },
      "source": [
        "sampled_df[sampled_df['rain_duration_9am'] == 0].shape"
      ],
      "execution_count": 37,
      "outputs": [
        {
          "output_type": "execute_result",
          "data": {
            "text/plain": [
              "(95, 11)"
            ]
          },
          "metadata": {
            "tags": []
          },
          "execution_count": 37
        }
      ]
    },
    {
      "cell_type": "code",
      "metadata": {
        "id": "RzjVJjdeEtHi",
        "colab_type": "code",
        "colab": {}
      },
      "source": [
        "del sampled_df['rain_accumulation_9am']\n",
        "del sampled_df['rain_duration_9am']"
      ],
      "execution_count": 39,
      "outputs": []
    },
    {
      "cell_type": "code",
      "metadata": {
        "id": "vZCSRT43Ewx6",
        "colab_type": "code",
        "colab": {}
      },
      "source": [
        "rows_before = sampled_df.shape[0]\n",
        "sampled_df = sampled_df.dropna()\n",
        "rows_after = sampled_df.shape[0]\n"
      ],
      "execution_count": 40,
      "outputs": []
    },
    {
      "cell_type": "code",
      "metadata": {
        "id": "YWbiiPonE5uu",
        "colab_type": "code",
        "colab": {
          "base_uri": "https://localhost:8080/",
          "height": 34
        },
        "outputId": "c1a63832-7cf8-4603-ead4-fda007e12d0d"
      },
      "source": [
        "rows_before - rows_after"
      ],
      "execution_count": 42,
      "outputs": [
        {
          "output_type": "execute_result",
          "data": {
            "text/plain": [
              "2"
            ]
          },
          "metadata": {
            "tags": []
          },
          "execution_count": 42
        }
      ]
    },
    {
      "cell_type": "code",
      "metadata": {
        "id": "_Gw0hoMtE_vH",
        "colab_type": "code",
        "colab": {
          "base_uri": "https://localhost:8080/",
          "height": 84
        },
        "outputId": "20332dad-4591-4fe2-c1cd-99388c5f9005"
      },
      "source": [
        "sampled_df.columns"
      ],
      "execution_count": 43,
      "outputs": [
        {
          "output_type": "execute_result",
          "data": {
            "text/plain": [
              "Index(['number', 'air_pressure_9am', 'air_temp_9am', 'avg_wind_direction_9am',\n",
              "       'avg_wind_speed_9am', 'max_wind_direction_9am', 'max_wind_speed_9am',\n",
              "       'relative_humidity_9am', 'relative_humidity_3pm'],\n",
              "      dtype='object')"
            ]
          },
          "metadata": {
            "tags": []
          },
          "execution_count": 43
        }
      ]
    },
    {
      "cell_type": "code",
      "metadata": {
        "id": "Gnef9tdfFC_g",
        "colab_type": "code",
        "colab": {}
      },
      "source": [
        "features = ['air_pressure_9am', 'air_temp_9am', 'avg_wind_direction_9am', 'avg_wind_speed_9am', 'max_wind_direction_9am', \n",
        "        'max_wind_speed_9am','relative_humidity_9am']"
      ],
      "execution_count": 44,
      "outputs": []
    },
    {
      "cell_type": "code",
      "metadata": {
        "id": "60LxJeaUFR9z",
        "colab_type": "code",
        "colab": {}
      },
      "source": [
        "select_df = sampled_df[features]"
      ],
      "execution_count": 45,
      "outputs": []
    },
    {
      "cell_type": "code",
      "metadata": {
        "id": "Up5uEs1tFVry",
        "colab_type": "code",
        "colab": {
          "base_uri": "https://localhost:8080/",
          "height": 84
        },
        "outputId": "46e8d078-9a55-499e-b2e9-20125d1c1fe3"
      },
      "source": [
        "select_df.columns"
      ],
      "execution_count": 46,
      "outputs": [
        {
          "output_type": "execute_result",
          "data": {
            "text/plain": [
              "Index(['air_pressure_9am', 'air_temp_9am', 'avg_wind_direction_9am',\n",
              "       'avg_wind_speed_9am', 'max_wind_direction_9am', 'max_wind_speed_9am',\n",
              "       'relative_humidity_9am'],\n",
              "      dtype='object')"
            ]
          },
          "metadata": {
            "tags": []
          },
          "execution_count": 46
        }
      ]
    },
    {
      "cell_type": "code",
      "metadata": {
        "id": "5nsXqe9eFX-Z",
        "colab_type": "code",
        "colab": {
          "base_uri": "https://localhost:8080/",
          "height": 422
        },
        "outputId": "75a996ac-cda1-4ea3-ae34-b1ce179e180d"
      },
      "source": [
        "select_df"
      ],
      "execution_count": 47,
      "outputs": [
        {
          "output_type": "execute_result",
          "data": {
            "text/html": [
              "<div>\n",
              "<style scoped>\n",
              "    .dataframe tbody tr th:only-of-type {\n",
              "        vertical-align: middle;\n",
              "    }\n",
              "\n",
              "    .dataframe tbody tr th {\n",
              "        vertical-align: top;\n",
              "    }\n",
              "\n",
              "    .dataframe thead th {\n",
              "        text-align: right;\n",
              "    }\n",
              "</style>\n",
              "<table border=\"1\" class=\"dataframe\">\n",
              "  <thead>\n",
              "    <tr style=\"text-align: right;\">\n",
              "      <th></th>\n",
              "      <th>air_pressure_9am</th>\n",
              "      <th>air_temp_9am</th>\n",
              "      <th>avg_wind_direction_9am</th>\n",
              "      <th>avg_wind_speed_9am</th>\n",
              "      <th>max_wind_direction_9am</th>\n",
              "      <th>max_wind_speed_9am</th>\n",
              "      <th>relative_humidity_9am</th>\n",
              "    </tr>\n",
              "  </thead>\n",
              "  <tbody>\n",
              "    <tr>\n",
              "      <th>0</th>\n",
              "      <td>918.060000</td>\n",
              "      <td>74.822000</td>\n",
              "      <td>271.100000</td>\n",
              "      <td>2.080354</td>\n",
              "      <td>295.400000</td>\n",
              "      <td>2.863283</td>\n",
              "      <td>42.420000</td>\n",
              "    </tr>\n",
              "    <tr>\n",
              "      <th>10</th>\n",
              "      <td>919.650000</td>\n",
              "      <td>77.036000</td>\n",
              "      <td>70.600000</td>\n",
              "      <td>3.825167</td>\n",
              "      <td>85.500000</td>\n",
              "      <td>4.764682</td>\n",
              "      <td>22.070000</td>\n",
              "    </tr>\n",
              "    <tr>\n",
              "      <th>20</th>\n",
              "      <td>919.992262</td>\n",
              "      <td>62.964383</td>\n",
              "      <td>54.799094</td>\n",
              "      <td>12.680436</td>\n",
              "      <td>74.254223</td>\n",
              "      <td>15.452306</td>\n",
              "      <td>18.809518</td>\n",
              "    </tr>\n",
              "    <tr>\n",
              "      <th>30</th>\n",
              "      <td>919.350000</td>\n",
              "      <td>91.112000</td>\n",
              "      <td>96.400000</td>\n",
              "      <td>2.527742</td>\n",
              "      <td>96.300000</td>\n",
              "      <td>3.377779</td>\n",
              "      <td>25.620000</td>\n",
              "    </tr>\n",
              "    <tr>\n",
              "      <th>40</th>\n",
              "      <td>919.300000</td>\n",
              "      <td>64.220000</td>\n",
              "      <td>182.200000</td>\n",
              "      <td>10.759681</td>\n",
              "      <td>186.500000</td>\n",
              "      <td>11.788674</td>\n",
              "      <td>34.630000</td>\n",
              "    </tr>\n",
              "    <tr>\n",
              "      <th>...</th>\n",
              "      <td>...</td>\n",
              "      <td>...</td>\n",
              "      <td>...</td>\n",
              "      <td>...</td>\n",
              "      <td>...</td>\n",
              "      <td>...</td>\n",
              "      <td>...</td>\n",
              "    </tr>\n",
              "    <tr>\n",
              "      <th>1050</th>\n",
              "      <td>917.590000</td>\n",
              "      <td>82.670000</td>\n",
              "      <td>170.900000</td>\n",
              "      <td>3.601473</td>\n",
              "      <td>183.400000</td>\n",
              "      <td>4.719943</td>\n",
              "      <td>13.880000</td>\n",
              "    </tr>\n",
              "    <tr>\n",
              "      <th>1060</th>\n",
              "      <td>912.900000</td>\n",
              "      <td>78.332000</td>\n",
              "      <td>167.000000</td>\n",
              "      <td>7.829290</td>\n",
              "      <td>177.100000</td>\n",
              "      <td>9.887275</td>\n",
              "      <td>28.860000</td>\n",
              "    </tr>\n",
              "    <tr>\n",
              "      <th>1070</th>\n",
              "      <td>911.600000</td>\n",
              "      <td>46.346000</td>\n",
              "      <td>110.200000</td>\n",
              "      <td>2.304048</td>\n",
              "      <td>96.100000</td>\n",
              "      <td>3.154085</td>\n",
              "      <td>90.510000</td>\n",
              "    </tr>\n",
              "    <tr>\n",
              "      <th>1080</th>\n",
              "      <td>916.260000</td>\n",
              "      <td>79.772000</td>\n",
              "      <td>185.700000</td>\n",
              "      <td>3.511996</td>\n",
              "      <td>201.500000</td>\n",
              "      <td>4.160708</td>\n",
              "      <td>27.680000</td>\n",
              "    </tr>\n",
              "    <tr>\n",
              "      <th>1090</th>\n",
              "      <td>918.900000</td>\n",
              "      <td>63.104000</td>\n",
              "      <td>192.900000</td>\n",
              "      <td>3.869906</td>\n",
              "      <td>207.300000</td>\n",
              "      <td>5.212070</td>\n",
              "      <td>26.020000</td>\n",
              "    </tr>\n",
              "  </tbody>\n",
              "</table>\n",
              "<p>108 rows × 7 columns</p>\n",
              "</div>"
            ],
            "text/plain": [
              "      air_pressure_9am  air_temp_9am  ...  max_wind_speed_9am  relative_humidity_9am\n",
              "0           918.060000     74.822000  ...            2.863283              42.420000\n",
              "10          919.650000     77.036000  ...            4.764682              22.070000\n",
              "20          919.992262     62.964383  ...           15.452306              18.809518\n",
              "30          919.350000     91.112000  ...            3.377779              25.620000\n",
              "40          919.300000     64.220000  ...           11.788674              34.630000\n",
              "...                ...           ...  ...                 ...                    ...\n",
              "1050        917.590000     82.670000  ...            4.719943              13.880000\n",
              "1060        912.900000     78.332000  ...            9.887275              28.860000\n",
              "1070        911.600000     46.346000  ...            3.154085              90.510000\n",
              "1080        916.260000     79.772000  ...            4.160708              27.680000\n",
              "1090        918.900000     63.104000  ...            5.212070              26.020000\n",
              "\n",
              "[108 rows x 7 columns]"
            ]
          },
          "metadata": {
            "tags": []
          },
          "execution_count": 47
        }
      ]
    },
    {
      "cell_type": "code",
      "metadata": {
        "id": "We__o2zQFa5S",
        "colab_type": "code",
        "colab": {
          "base_uri": "https://localhost:8080/",
          "height": 1000
        },
        "outputId": "35feeb11-cf20-45d0-b54f-40e318b8c7ee"
      },
      "source": [
        "X = StandardScaler().fit_transform(select_df)\n",
        "X"
      ],
      "execution_count": 48,
      "outputs": [
        {
          "output_type": "execute_result",
          "data": {
            "text/plain": [
              "array([[-2.06990280e-01,  6.20895578e-01,  1.78768779e+00,\n",
              "        -7.51556725e-01,  2.15310082e+00, -7.45517621e-01,\n",
              "         4.90775465e-01],\n",
              "       [ 3.24081589e-01,  8.10765721e-01, -1.16464871e+00,\n",
              "        -3.52610919e-01, -1.08897445e+00, -3.91309771e-01,\n",
              "        -3.95017082e-01],\n",
              "       [ 4.38399711e-01, -3.96000272e-01, -1.39731501e+00,\n",
              "         1.67211710e+00, -1.26267456e+00,  1.59966644e+00,\n",
              "        -5.36938987e-01],\n",
              "       [ 2.23879350e-01,  2.01790760e+00, -7.84747055e-01,\n",
              "        -6.49262929e-01, -9.22159711e-01, -6.49673144e-01,\n",
              "        -2.40493075e-01],\n",
              "       [ 2.07178977e-01, -2.88319984e-01,  4.78646820e-01,\n",
              "         1.23294293e+00,  4.71052240e-01,  9.17175698e-01,\n",
              "         1.51693208e-01],\n",
              "       [ 1.07559839e+00, -1.46303292e-01,  7.26024641e-01,\n",
              "        -1.99170224e-01,  7.90780482e-01, -2.87130992e-01,\n",
              "        -9.05163944e-01],\n",
              "       [-2.93832221e-01,  5.31363315e-01,  4.74229358e-01,\n",
              "        -1.01240591e+00,  4.52517270e-01, -9.91379541e-01,\n",
              "        -8.55977429e-01],\n",
              "       [-3.06330536e-01,  1.24198998e+00, -5.80691975e-01,\n",
              "        -7.16309932e-01, -4.05035894e-01, -6.81626180e-01,\n",
              "        -6.34043436e-01],\n",
              "       [-6.27839687e-01, -1.83351125e-01,  2.16544128e-01,\n",
              "        -4.13987197e-01,  6.27054909e-01, -3.99644074e-01,\n",
              "        -4.15039911e-01],\n",
              "       [ 6.84627442e-02,  4.56056544e-01,  2.03515458e-01,\n",
              "        -9.92499296e-01,  6.20216479e-01, -1.00279802e+00,\n",
              "        -5.32183695e-01],\n",
              "       [ 7.35759904e-02,  8.55531852e-01,  9.17447955e-01,\n",
              "        -9.56144318e-01, -2.93919638e-02, -9.37206576e-01,\n",
              "         1.34740433e+00],\n",
              "       [ 1.34662563e+00, -1.72039794e+00,  7.20016145e-01,\n",
              "         1.70095210e-01,  9.17834694e-01,  1.09295750e-01,\n",
              "         8.53442832e-01],\n",
              "       [ 6.74789428e-01,  7.36670055e-01,  6.06753191e-01,\n",
              "         2.04890271e-01,  6.73392335e-01,  7.54111603e-02,\n",
              "         2.04797233e-01],\n",
              "       [-7.28041926e-01,  8.01503762e-01,  1.38502315e-01,\n",
              "        -9.30570869e-01,  7.75334673e-01, -9.20537971e-01,\n",
              "         4.95128254e-01],\n",
              "       [-4.90896626e-01,  6.71836348e-01,  3.50540448e-01,\n",
              "        -7.00409827e-01,  5.94618710e-01, -6.91344656e-01,\n",
              "         7.58471984e-01],\n",
              "       [ 1.50572741e+00, -9.47570410e-01, -1.46660141e+00,\n",
              "         5.32344069e-01, -1.52921154e+00,  4.77268187e-01,\n",
              "        -7.68185310e-01],\n",
              "       [ 9.44436343e-01,  4.81036254e-01,  2.33459168e-01,\n",
              "        -4.51899034e-01,  7.75013316e-01, -2.39799828e-01,\n",
              "        -7.54646119e-01],\n",
              "       [ 2.43166870e+00, -9.10414843e-01, -1.44294876e+00,\n",
              "         2.85941429e+00, -1.38553397e+00,  2.87156960e+00,\n",
              "        -6.87089219e-01],\n",
              "       [-8.61644913e-01, -1.40284229e+00,  7.39277024e-01,\n",
              "        -4.80478165e-01,  9.90031415e-01, -5.28825760e-01,\n",
              "         2.49349365e+00],\n",
              "       [ 3.54142261e-01, -8.64105052e-01,  9.30700339e-01,\n",
              "        -7.77130174e-01,  1.38698870e+00, -7.53851924e-01,\n",
              "         2.74006577e-01],\n",
              "       [ 5.76522720e-01, -1.53469632e+00, -1.51809893e+00,\n",
              "         1.11069468e+00, -1.38378738e+00,  1.17874204e+00,\n",
              "        -3.51383222e-01],\n",
              "       [-1.80269683e-01,  9.88286586e-01,  1.39306127e+00,\n",
              "        -7.05524517e-01,  1.15066783e+00, -7.41350470e-01,\n",
              "        -4.79461187e-01],\n",
              "       [ 1.69600628e+00,  2.86393170e-01,  6.73879586e-01,\n",
              "        -6.32971163e-02,  9.69831048e-01, -7.49056394e-02,\n",
              "        -5.97599334e-01],\n",
              "       [-1.02864865e+00, -9.69073911e-01,  4.21219825e-01,\n",
              "        -4.95822234e-01,  7.05828534e-01, -5.03822853e-01,\n",
              "         2.55965604e+00],\n",
              "       [ 4.47664352e-01, -1.51244212e+00,  4.96316664e-01,\n",
              "         6.90785804e-01,  5.82262063e-01,  5.50466394e-01,\n",
              "         8.36386906e-01],\n",
              "       [-3.60633715e-01,  6.30157536e-01, -1.26330534e+00,\n",
              "         1.43753052e+00, -1.10133109e+00,  1.53391407e+00,\n",
              "         9.87428682e-01],\n",
              "       [-6.77940807e-01,  1.87125993e+00,  5.22821431e-01,\n",
              "        -8.33391762e-01,  9.49872312e-01, -8.70532157e-01,\n",
              "        -8.31166532e-01],\n",
              "       [ 9.29024278e-01, -3.82969602e-01, -1.24606217e+00,\n",
              "         9.18521737e-01, -1.16425515e+00,  9.56001659e-01,\n",
              "        -6.49423725e-01],\n",
              "       [-1.62986208e+00,  1.17662516e-01, -1.48632656e-01,\n",
              "        -7.15753896e-01,  5.01943858e-01, -6.20503086e-01,\n",
              "         1.74762989e-01],\n",
              "       [ 9.63853636e-01, -2.77720976e-01, -1.24369991e+00,\n",
              "         1.30006887e+00, -1.14938766e+00,  1.37549872e+00,\n",
              "        -7.41075917e-01],\n",
              "       [-1.02864865e+00,  8.86405046e-01, -1.68738161e+00,\n",
              "        -4.24216577e-01, -1.63421150e+00, -4.49649888e-01,\n",
              "        -2.80103454e-01],\n",
              "       [-2.17010504e-01, -2.01721885e+00,  2.25379050e-01,\n",
              "         4.91312901e-01,  4.75685983e-01,  5.67134999e-01,\n",
              "         2.58054943e+00],\n",
              "       [-1.93629982e-01, -7.56048873e-01,  5.65523554e-01,\n",
              "        -1.68482085e-01,  6.78026078e-01, -1.87119364e-01,\n",
              "         2.47042387e+00],\n",
              "       [-1.93629982e-01, -4.79733787e-01,  6.09698165e-01,\n",
              "         1.29943389e+00,  6.70303173e-01,  1.09219605e+00,\n",
              "        -5.18201008e-01],\n",
              "       [ 6.14486874e-01,  1.18259438e+00,  1.47669068e-01,\n",
              "        -6.29439939e-01,  5.30817844e-01, -6.19554950e-01,\n",
              "        -6.66972617e-01],\n",
              "       [-5.20957298e-01, -1.85976556e+00,  4.34472209e-01,\n",
              "        -4.49790026e-01,  6.02341615e-01, -5.37160063e-01,\n",
              "         2.51961038e+00],\n",
              "       [ 1.11543394e-01, -4.27469610e-01,  2.52578220e-01,\n",
              "        -3.94251417e-01,  5.26193967e-01, -3.71723651e-01,\n",
              "        -3.81951773e-01],\n",
              "       [-4.44135581e-01,  6.31701196e-01,  5.94973295e-01,\n",
              "        -9.25456179e-01,  9.20525276e-01, -9.20537971e-01,\n",
              "         1.16458719e+00],\n",
              "       [-4.94236701e-01,  5.62236509e-01,  3.87352623e-01,\n",
              "        -5.26510373e-01,  5.46736703e-01, -5.87165877e-01,\n",
              "        -7.75886113e-01],\n",
              "       [-1.51905980e+00,  1.28648323e+00, -4.25307970e-01,\n",
              "        -6.37979767e-01, -2.58923691e-01, -6.45581505e-01,\n",
              "        -4.88986085e-01],\n",
              "       [-6.48863279e-01,  8.39981548e-01,  5.08000933e-01,\n",
              "        -4.64883179e-01,  7.00153925e-01, -5.24748818e-01,\n",
              "         3.09233799e-03],\n",
              "       [ 1.76031369e+00, -1.66372078e+00, -1.77867580e+00,\n",
              "        -2.70775882e-01, -1.71916344e+00, -3.20468201e-01,\n",
              "         1.87452707e+00],\n",
              "       [-5.56109305e-01,  1.24372401e+00,  8.23779275e-01,\n",
              "        -9.35977420e-01,  1.29250413e+00, -9.32840620e-01,\n",
              "        -5.78738913e-01],\n",
              "       [-1.52745937e+00,  5.30441052e-01,  1.02145011e+00,\n",
              "        -8.83531056e-01, -4.81800908e-01, -8.65606533e-01,\n",
              "        -2.64707739e-01],\n",
              "       [-2.83811998e-01,  4.68073268e-01, -6.32284086e-02,\n",
              "        -5.82771961e-01, -1.81801662e+00, -5.03822853e-01,\n",
              "        -2.50069210e-01],\n",
              "       [ 1.34880872e+00,  3.83661263e-01, -1.20412133e+00,\n",
              "         2.64180099e-01, -9.85222228e-01,  2.72609306e-01,\n",
              "        -7.89908175e-01],\n",
              "       [-7.94843420e-01, -3.67046629e-01,  5.16931482e-01,\n",
              "         1.74202133e-01,  6.98105629e-01,  1.54587033e-01,\n",
              "        -7.53686889e-01],\n",
              "       [-5.27637447e-01, -1.32874662e+00,  3.54957909e-01,\n",
              "        -4.75363475e-01,  6.95016467e-01, -3.49638260e-01,\n",
              "         2.58707861e+00],\n",
              "       [-4.49342472e-01, -4.96385965e-02, -1.23010265e+00,\n",
              "        -1.43809699e-01, -1.18564258e+00, -2.00887648e-01,\n",
              "        -5.40793101e-01],\n",
              "       [-4.27435208e-01,  8.27745977e-01,  1.19280303e+00,\n",
              "        -8.02703623e-01,  7.07373115e-01, -7.87189133e-01,\n",
              "        -7.32793502e-01],\n",
              "       [ 1.68349197e+00, -8.03902323e-01,  6.11170652e-01,\n",
              "        -1.22449877e-01, -8.72733123e-01,  1.17082672e-01,\n",
              "        -4.44203596e-01],\n",
              "       [-1.96970057e-01,  1.09944218e-01, -1.39730166e+00,\n",
              "         2.54741821e+00, -1.27586873e+00,  2.67571349e+00,\n",
              "        -6.40514377e-01],\n",
              "       [-4.50815730e-01,  1.04848931e+00,  7.24552154e-01,\n",
              "        -7.72015484e-01,  1.07807252e+00, -7.62186226e-01,\n",
              "        -1.19485542e-01],\n",
              "       [-1.12551081e+00,  9.68219010e-01,  9.23337903e-01,\n",
              "        -8.48735832e-01,  5.22023409e-01, -8.91367913e-01,\n",
              "        -1.82600982e-01],\n",
              "       [ 9.11642476e-01, -5.77395075e-01, -1.56426170e+00,\n",
              "         3.64619422e+00, -1.56097629e+00,  3.49105234e+00,\n",
              "        -8.40539022e-01],\n",
              "       [-9.58995661e-01,  4.83297344e-01,  9.70889924e-01,\n",
              "        -7.28947232e-01,  1.18228348e+00, -7.44697598e-01,\n",
              "        -1.14746656e-01],\n",
              "       [ 1.16716004e+00, -4.55757016e-01, -1.49792772e+00,\n",
              "         2.55751142e+00, -1.42617588e+00,  2.52302470e+00,\n",
              "        -6.98646442e-01],\n",
              "       [-2.78552791e+00, -1.44606476e+00,  3.68210292e-01,\n",
              "         1.23805762e+00,  5.66816255e-01,  1.21721058e+00,\n",
              "         2.46171829e+00],\n",
              "       [ 1.65477301e+00, -4.30635827e-01, -1.27757815e+00,\n",
              "         1.78022286e+00, -1.05961542e+00,  1.99059519e+00,\n",
              "        -6.38047239e-01],\n",
              "       [-2.27030728e-01, -6.23294139e-01,  5.56688632e-01,\n",
              "        -2.50317123e-01,  7.96958805e-01, -2.45459480e-01,\n",
              "         2.03926675e-01],\n",
              "       [-6.54560284e-01,  1.65977855e+00,  1.80094017e+00,\n",
              "        -7.25983276e-01,  4.81864306e-01, -7.45517621e-01,\n",
              "        -9.11924144e-02],\n",
              "       [ 1.03290163e+00, -1.68426740e+00, -1.54658311e+00,\n",
              "         1.73143831e+00, -1.37734526e+00,  1.90431313e+00,\n",
              "         6.71549947e-02],\n",
              "       [ 8.41793161e-01, -9.25851440e-01,  6.27368010e-01,\n",
              "         9.56749675e-01,  7.01194791e-01,  7.71325407e-01,\n",
              "         1.24685490e+00],\n",
              "       [ 1.02997352e+00, -1.33742485e-01, -1.12671005e+00,\n",
              "        -5.75290564e-01, -9.66436454e-01, -5.71491550e-01,\n",
              "        -8.76182038e-01],\n",
              "       [ 1.43966652e+00, -1.01384004e+00, -1.59755990e+00,\n",
              "         8.95373397e-01, -1.38862314e+00,  9.75515814e-01,\n",
              "        -6.23538500e-01],\n",
              "       [-5.94438940e-01,  4.89684503e-01,  1.32532686e+00,\n",
              "        -8.79423971e-01,  1.84264006e+00, -8.41362098e-01,\n",
              "         1.82162730e-01],\n",
              "       [-5.47677895e-01, -2.18239043e+00,  3.18145733e-01,\n",
              "         1.61142997e+00,  5.25112571e-01,  1.80477890e+00,\n",
              "         2.26801918e+00],\n",
              "       [ 8.69362890e-02,  1.05313239e-01,  1.45048826e+00,\n",
              "        -4.60019405e-01, -1.48747631e+00, -4.32981283e-01,\n",
              "        -2.24823035e-01],\n",
              "       [-1.67662313e+00,  1.08244983e+00, -4.55585642e-02,\n",
              "        -7.00409827e-01, -1.65315081e-01, -7.08013261e-01,\n",
              "        -1.25579447e-01],\n",
              "       [-8.81685361e-01, -4.67384509e-01, -1.46503606e+00,\n",
              "        -3.67954988e-01, -1.42260391e+00, -4.07978376e-01,\n",
              "        -2.19164409e-01],\n",
              "       [-8.95045659e-01, -8.10076962e-01,  4.25637286e-01,\n",
              "         1.39149831e+00,  5.01943858e-01,  1.30055361e+00,\n",
              "         2.22643667e-01],\n",
              "       [-1.66326283e+00,  2.68631225e+00,  6.33257958e-01,\n",
              "        -7.41327345e-01, -1.58478491e+00, -6.53840296e-01,\n",
              "        -8.55542150e-01],\n",
              "       [ 1.74082796e+00, -9.08624208e-01, -1.44761090e+00,\n",
              "         1.82289475e+00, -1.36299737e+00,  1.98042737e+00,\n",
              "        -5.89202412e-01],\n",
              "       [-4.90896626e-01,  1.30010584e+00,  3.22563194e-01,\n",
              "        -5.93001341e-01,  7.45987636e-01, -6.03834481e-01,\n",
              "        -2.84020964e-01],\n",
              "       [ 8.28226469e-01, -9.82930280e-02,  8.50139117e-01,\n",
              "        -5.71310648e-01,  1.17987771e+00, -5.66643291e-01,\n",
              "         5.78128845e-01],\n",
              "       [ 4.08187081e-01,  4.63131075e-01, -1.37366144e+00,\n",
              "         3.28491177e-01, -1.27174013e+00,  2.89085056e-01,\n",
              "        -8.10465381e-01],\n",
              "       [ 7.91692041e-01, -5.26043578e-01,  5.78775938e-01,\n",
              "         7.82850221e-01,  6.37866975e-01,  6.37976569e-01,\n",
              "        -1.53002017e-01],\n",
              "       [-8.28244166e-01,  1.44984084e+00, -1.57400010e+00,\n",
              "        -1.83826155e-01, -1.43650514e+00, -2.07955120e-01,\n",
              "        -5.11236546e-01],\n",
              "       [ 1.21254145e+00, -7.40612276e-01,  7.52529408e-01,\n",
              "        -4.19101887e-01,  1.03482426e+00, -4.12145527e-01,\n",
              "         7.31919972e-01],\n",
              "       [ 4.00903306e-01, -5.21412599e-01,  6.25895523e-01,\n",
              "         1.26874575e+00,  7.05828534e-01,  1.06302599e+00,\n",
              "        -4.75543677e-01],\n",
              "       [ 5.16284846e-01,  6.56757299e-01,  9.41414766e-01,\n",
              "        -5.37586652e-01,  1.02677109e+00, -5.57660787e-01,\n",
              "        -3.42460736e-01],\n",
              "       [ 1.10072229e+00, -2.23840123e-02, -1.38305022e+00,\n",
              "         2.65113760e+00, -1.31858073e+00,  2.63154068e+00,\n",
              "        -6.59572460e-01],\n",
              "       [ 9.13363423e-01, -4.30294145e-01, -1.24712435e+00,\n",
              "         7.46960888e-01, -1.17094025e+00,  7.67376803e-01,\n",
              "        -6.08212753e-01],\n",
              "       [ 7.70377867e-01, -9.01183330e-01, -1.14787309e+00,\n",
              "        -5.82209446e-01, -1.42918016e+00, -6.40746034e-01,\n",
              "        -4.02162103e-01],\n",
              "       [-2.61856901e-01,  6.21694521e-01,  1.95256496e+00,\n",
              "        -7.84187499e-01,  1.13180327e+00, -7.86590480e-01,\n",
              "        -6.12366876e-01],\n",
              "       [-7.54762524e-01, -1.80265015e+00,  2.69553661e-01,\n",
              "         3.78789725e-01,  4.15447329e-01,  4.83791976e-01,\n",
              "         2.37161556e+00],\n",
              "       [-2.36467851e+00, -2.13916796e+00,  2.10721748e+00,\n",
              "        -7.77130174e-01,  1.40552367e+00, -7.83021982e-01,\n",
              "         2.57184385e+00],\n",
              "       [-1.58644111e+00,  1.21520456e+00, -4.23987732e-01,\n",
              "        -5.62313202e-01, -2.30187478e-01, -5.82998726e-01,\n",
              "        -4.66838099e-01],\n",
              "       [ 1.01782629e+00, -5.43056643e-01, -1.37224801e+00,\n",
              "         1.11452311e+00, -1.22375594e+00,  1.16570557e+00,\n",
              "        -5.75720847e-01],\n",
              "       [-4.50815730e-01,  4.81966205e-01, -6.34553377e-01,\n",
              "        -9.10112109e-01, -1.28245140e-01, -9.03869366e-01,\n",
              "         2.41795939e-01],\n",
              "       [ 5.82557568e-01,  2.81123900e-01,  7.25641123e-01,\n",
              "        -2.23711741e-01,  8.54121328e-01, -2.99141755e-01,\n",
              "        -8.35490410e-01],\n",
              "       [-1.28583439e+00,  1.53319846e+00, -4.29877680e-01,\n",
              "        -8.99882730e-01, -3.58387691e-01, -8.62197854e-01,\n",
              "        -5.65646408e-01],\n",
              "       [ 3.68351692e-02, -4.95170384e-01,  1.94456822e-01,\n",
              "        -4.90707544e-01,  4.78775145e-01, -4.99655702e-01,\n",
              "        -2.51375047e-01],\n",
              "       [ 7.65438402e-01,  5.76161162e-02,  6.25223707e-01,\n",
              "        -7.13161357e-01,  1.01443868e+00, -6.96598883e-01,\n",
              "        -5.44228381e-01],\n",
              "       [ 1.10180040e-01, -4.28705085e-01,  2.51517560e-01,\n",
              "        -3.96011649e-01,  5.25328618e-01, -3.74058290e-01,\n",
              "        -3.79568872e-01],\n",
              "       [-5.64378268e-01,  6.42506814e-01, -1.12930902e+00,\n",
              "        -1.73596775e-01, -8.80456027e-01, -9.12748868e-02,\n",
              "        -9.71326336e-01],\n",
              "       [ 4.71647084e-01,  6.93108706e-01, -8.66014918e-01,\n",
              "        -9.63146506e-01, -9.91647838e-01, -9.52717390e-01,\n",
              "        -7.53517484e-01],\n",
              "       [ 7.09100628e-01,  4.55295256e-01, -7.40584111e-01,\n",
              "        -7.66531984e-01, -1.37660718e-01, -7.20580753e-01,\n",
              "        -1.05405226e+00],\n",
              "       [ 2.10622604e-01,  7.27416566e-01,  1.81728674e+00,\n",
              "        -7.51218766e-01,  7.74631748e-01, -7.78071599e-01,\n",
              "        -4.71323441e-01],\n",
              "       [ 1.44968675e+00, -6.07857542e-01,  1.84069732e+00,\n",
              "        -7.87359554e-01,  1.19391609e+00, -8.24693494e-01,\n",
              "        -1.01572478e+00],\n",
              "       [ 6.77449734e-03,  5.88478724e-01,  4.60976975e-01,\n",
              "        -1.01752060e+00, -4.38705896e-01, -1.02888390e+00,\n",
              "        -8.02002846e-01],\n",
              "       [ 3.60694827e-01,  1.87943983e-01, -4.34277340e-01,\n",
              "        -4.50016431e-01,  9.13681330e-02, -3.31309499e-01,\n",
              "        -5.00404494e-01],\n",
              "       [ 1.48992450e+00, -8.01628055e-01, -1.50234924e+00,\n",
              "         1.13971287e+00, -1.39472395e+00,  1.16317863e+00,\n",
              "        -6.06294381e-01],\n",
              "       [-3.63973789e-01,  1.29393121e+00,  3.12255785e-01,\n",
              "        -4.03757817e-01,  4.23170233e-01, -3.99644074e-01,\n",
              "        -7.51510495e-01],\n",
              "       [-1.93046880e+00,  9.21909219e-01,  2.54828791e-01,\n",
              "         5.62918559e-01,  3.25861638e-01,  5.62967848e-01,\n",
              "        -9.94627134e-02],\n",
              "       [-2.36467851e+00, -1.82117406e+00, -5.81543844e-01,\n",
              "        -7.00409827e-01, -9.25248873e-01, -6.91344656e-01,\n",
              "         2.58403166e+00],\n",
              "       [-8.08203718e-01,  1.04540199e+00,  5.30183866e-01,\n",
              "        -4.24216577e-01,  7.02739372e-01, -5.03822853e-01,\n",
              "        -1.50825623e-01],\n",
              "       [ 7.35759904e-02, -3.84026886e-01,  6.36202932e-01,\n",
              "        -3.42381539e-01,  7.92325063e-01, -3.07966748e-01,\n",
              "        -2.23081919e-01]])"
            ]
          },
          "metadata": {
            "tags": []
          },
          "execution_count": 48
        }
      ]
    },
    {
      "cell_type": "markdown",
      "metadata": {
        "id": "0Snk_Tp5FoHf",
        "colab_type": "text"
      },
      "source": [
        "**K-Means Algorithm**"
      ]
    },
    {
      "cell_type": "code",
      "metadata": {
        "id": "g__0c4RBFd5i",
        "colab_type": "code",
        "colab": {
          "base_uri": "https://localhost:8080/",
          "height": 84
        },
        "outputId": "5a3adedd-3780-46fd-cfd8-22d41ee503e6"
      },
      "source": [
        "kmeans = KMeans(n_clusters=12)\n",
        "model = kmeans.fit(X)\n",
        "print(\"model\\n\", model)"
      ],
      "execution_count": 49,
      "outputs": [
        {
          "output_type": "stream",
          "text": [
            "model\n",
            " KMeans(algorithm='auto', copy_x=True, init='k-means++', max_iter=300,\n",
            "       n_clusters=12, n_init=10, n_jobs=None, precompute_distances='auto',\n",
            "       random_state=None, tol=0.0001, verbose=0)\n"
          ],
          "name": "stdout"
        }
      ]
    },
    {
      "cell_type": "code",
      "metadata": {
        "id": "NYrZhgBXFgQX",
        "colab_type": "code",
        "colab": {
          "base_uri": "https://localhost:8080/",
          "height": 420
        },
        "outputId": "d15db356-38d1-4242-c299-37091e15b7b5"
      },
      "source": [
        "centers = model.cluster_centers_\n",
        "centers"
      ],
      "execution_count": 50,
      "outputs": [
        {
          "output_type": "execute_result",
          "data": {
            "text/plain": [
              "array([[-0.40806277,  0.68850787,  0.27338213, -0.88453866,  0.42656831,\n",
              "        -0.87469931,  0.80147754],\n",
              "       [ 1.08284469, -0.37120135, -1.45709801,  2.85233515, -1.39342712,\n",
              "         2.83858016, -0.7052723 ],\n",
              "       [-0.98151648, -1.5662987 ,  0.50400632, -0.29748593,  0.56029469,\n",
              "        -0.28111177,  2.52647812],\n",
              "       [-1.45837134,  1.17951679, -0.01605775, -0.58828769, -0.29518113,\n",
              "        -0.56193329, -0.36956034],\n",
              "       [-0.06916378,  0.05035163,  0.37963387, -0.51441902,  0.34001545,\n",
              "        -0.50271386, -0.468502  ],\n",
              "       [ 0.08928178,  0.47991048, -1.11124418, -0.36946837, -1.15503268,\n",
              "        -0.37331379, -0.5781779 ],\n",
              "       [-0.5122649 ,  1.00186953,  1.05675346, -0.71284531,  0.98993051,\n",
              "        -0.72870461, -0.29526266],\n",
              "       [ 0.36839773, -0.8480348 ,  0.57029432,  0.97413772,  0.64853579,\n",
              "         0.80525193,  0.27053435],\n",
              "       [ 1.76031369, -1.66372078, -1.7786758 , -0.27077588, -1.71916344,\n",
              "        -0.3204682 ,  1.87452707],\n",
              "       [ 0.98193335, -0.06345639,  0.79313609, -0.38844067,  0.83560183,\n",
              "        -0.37667319, -0.30422206],\n",
              "       [ 1.02632134, -0.67085741, -1.39431819,  1.2463387 , -1.27451144,\n",
              "         1.31293874, -0.43334151],\n",
              "       [-1.6666029 , -1.8142276 ,  0.34317801,  1.42474379,  0.54596441,\n",
              "         1.51099474,  2.36486874]])"
            ]
          },
          "metadata": {
            "tags": []
          },
          "execution_count": 50
        }
      ]
    },
    {
      "cell_type": "code",
      "metadata": {
        "id": "bcGTcw22Fio_",
        "colab_type": "code",
        "colab": {}
      },
      "source": [
        ""
      ],
      "execution_count": null,
      "outputs": []
    }
  ]
}